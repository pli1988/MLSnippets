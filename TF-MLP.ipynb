{
 "cells": [
  {
   "cell_type": "code",
   "execution_count": 1,
   "metadata": {},
   "outputs": [],
   "source": [
    "import numpy as np\n",
    "import tensorflow as tf\n",
    "import matplotlib.pyplot as plt\n",
    "\n",
    "%matplotlib inline"
   ]
  },
  {
   "cell_type": "markdown",
   "metadata": {},
   "source": [
    "# Multi Layer Perceptron with Tensorflow\n",
    "\n",
    "MLP on MNIST. \n",
    "\n",
    "Here we flatten mnist and train an MLP classifier. Test accuracy is about 92%. This is mostly for practice. For images, you'll probably want to use something that takes advantage of the structure in the data e.g. a CNN. "
   ]
  },
  {
   "cell_type": "markdown",
   "metadata": {},
   "source": [
    "## Download Data"
   ]
  },
  {
   "cell_type": "code",
   "execution_count": 2,
   "metadata": {},
   "outputs": [
    {
     "name": "stdout",
     "output_type": "stream",
     "text": [
      "x train:  (60000, 784)\n",
      "y train:  (60000, 10)\n",
      "x test:  (10000, 784)\n",
      "y test:  (10000, 10)\n"
     ]
    }
   ],
   "source": [
    "mnist = tf.keras.datasets.mnist\n",
    "\n",
    "(x_train, y_train),(x_test, y_test) = mnist.load_data()\n",
    "\n",
    "# rescale x to be in [0,1]\n",
    "x_train, x_test = x_train / 255.0, x_test / 255.0\n",
    "\n",
    "# flatten x\n",
    "x_train = x_train.reshape([60000, -1])\n",
    "x_test = x_test.reshape([10000, -1])\n",
    "\n",
    "# categorical encoding for y\n",
    "n_classes = 10\n",
    "\n",
    "y_train_cat = np.zeros([len(y_train), n_classes])\n",
    "y_train_cat[range(len(y_train)),y_train]= 1\n",
    "\n",
    "\n",
    "y_test_cat = np.zeros([len(y_test), n_classes])\n",
    "y_test_cat[range(len(y_test)),y_test]= 1\n",
    "\n",
    "\n",
    "print('x train: ', x_train.shape)\n",
    "print('y train: ', y_train_cat.shape)\n",
    "\n",
    "\n",
    "print('x test: ', x_test.shape)\n",
    "print('y test: ', y_test_cat.shape)"
   ]
  },
  {
   "cell_type": "markdown",
   "metadata": {},
   "source": [
    "# MLP in TF"
   ]
  },
  {
   "cell_type": "code",
   "execution_count": 3,
   "metadata": {},
   "outputs": [],
   "source": [
    "# util \n",
    "\n",
    "def accuracy(y, y_pred):\n",
    "    \n",
    "    return sum(y==y_pred)/len(y)"
   ]
  },
  {
   "cell_type": "code",
   "execution_count": 4,
   "metadata": {},
   "outputs": [],
   "source": [
    "class MLP:\n",
    "    \n",
    "    def __init__(self, layer_dims, input_dim, n_classes):\n",
    "        \n",
    "        self.sess = tf.Session()\n",
    "        \n",
    "        self.layer_dims = layer_dims\n",
    "        \n",
    "        self.x = tf.placeholder(name = 'input',\n",
    "                                shape = (None, input_dim),\n",
    "                                dtype = tf.float32)\n",
    "        \n",
    "        self.ground_truth = tf.placeholder(name = 'ground_truth',\n",
    "                                           shape = (None, n_classes),\n",
    "                                           dtype = tf.float32)   \n",
    "        \n",
    "        self.initialize = False\n",
    "        \n",
    "        self.build()\n",
    "        \n",
    "    def build(self):\n",
    "        \n",
    "        self.build_forward()\n",
    "        self.build_train()\n",
    "        self.build_aux()\n",
    "        \n",
    "    def build_forward(self):\n",
    "        '''Build forward pass'''\n",
    "        \n",
    "        for i, dim in enumerate(self.layer_dims):\n",
    "\n",
    "            if i == 0:\n",
    "                y = tf.layers.Dense(units = dim, activation=tf.nn.relu)(self.x)\n",
    "            else:\n",
    "                y = y = tf.layers.Dense(units = dim, activation=tf.nn.relu)(y)\n",
    "\n",
    "        # logits here since loss performs softmax for numerical reasons\n",
    "        self.logits = tf.layers.Dense(n_classes, activation=None)(y)\n",
    "\n",
    "        \n",
    "    def build_train(self):\n",
    "        \n",
    "        # cross-entropy\n",
    "        self.loss = tf.reduce_mean(\n",
    "            tf.nn.softmax_cross_entropy_with_logits_v2(\n",
    "                labels=self.ground_truth, logits=self.logits))\n",
    "        \n",
    "        # minimize loss with Adam\n",
    "        self.train_step = tf.train.AdamOptimizer().minimize(self.loss)\n",
    "        \n",
    "    def build_aux(self):\n",
    "        \n",
    "        # predicted probabilities\n",
    "        _probs = tf.nn.softmax(self.logits)\n",
    " \n",
    "        # predicted class (arg max)\n",
    "        self.pred = tf.argmax(_probs, axis = 1)\n",
    "        \n",
    "    def train(self, X_train, y_train,num_epoch, batch_size, initialize = False, verbose = False):\n",
    "        \n",
    "        if not self.initialize or initialize:\n",
    "            print('Initializing Model')\n",
    "            init_var = tf.global_variables_initializer()\n",
    "            self.sess.run(init_var)\n",
    "            self.initialize = True\n",
    "\n",
    "        N = len(X_train)\n",
    "\n",
    "        idx = np.arange(N)\n",
    "        n = (N%batch_size)*batch_size\n",
    "        loss_val = []\n",
    "\n",
    "        for epoch in range(num_epoch):\n",
    "\n",
    "            np.random.shuffle(idx)\n",
    "\n",
    "            idx = idx[:n].reshape([-1, batch_size])\n",
    "\n",
    "            for batch_idx in idx:\n",
    "\n",
    "                x_batch = X_train[batch_idx]\n",
    "                y_batch = y_train_cat[batch_idx]\n",
    "\n",
    "                feed_dict = {self.x: x_batch, self.ground_truth: y_batch}\n",
    "                self.sess.run(self.train_step, feed_dict=feed_dict)\n",
    "\n",
    "                _l = self.sess.run(self.loss, feed_dict=feed_dict)\n",
    "                loss_val.append(_l)\n",
    "                \n",
    "            if verbose:\n",
    "                _y_pred = self.predict(X_train[:500])\n",
    "                _y_train = y_train[:500].argmax(1)\n",
    "                print('Epoch {}   Train Acuracy {}'.format(epoch+1, accuracy(_y_train, _y_pred)))\n",
    "                \n",
    "        return loss_val\n",
    "    \n",
    "    def predict(self,X, batch = 128):\n",
    "        \n",
    "        y_pred = []\n",
    "        \n",
    "        i = 0\n",
    "        while i+batch <= len(X):\n",
    "            xx = X[i:i+batch]\n",
    "            _y  = self.sess.run(self.pred, feed_dict = {self.x: xx})\n",
    "            y_pred.extend(_y)\n",
    "            \n",
    "            i+=batch\n",
    "\n",
    "        xx = X[i:]\n",
    "        _y  = self.sess.run(self.pred, feed_dict = {self.x: xx})\n",
    "        y_pred.extend(_y)\n",
    "            \n",
    "        return np.array(y_pred)\n",
    "    "
   ]
  },
  {
   "cell_type": "code",
   "execution_count": 5,
   "metadata": {},
   "outputs": [],
   "source": [
    "tf.reset_default_graph()"
   ]
  },
  {
   "cell_type": "code",
   "execution_count": 6,
   "metadata": {},
   "outputs": [
    {
     "name": "stdout",
     "output_type": "stream",
     "text": [
      "Initializing Model\n",
      "Epoch 1   Train Acuracy 0.872\n",
      "Epoch 2   Train Acuracy 0.892\n",
      "Epoch 3   Train Acuracy 0.916\n",
      "Epoch 4   Train Acuracy 0.916\n",
      "Epoch 5   Train Acuracy 0.914\n",
      "Epoch 6   Train Acuracy 0.922\n",
      "Epoch 7   Train Acuracy 0.922\n",
      "Epoch 8   Train Acuracy 0.928\n",
      "Epoch 9   Train Acuracy 0.924\n",
      "Epoch 10   Train Acuracy 0.928\n",
      "Epoch 11   Train Acuracy 0.93\n",
      "Epoch 12   Train Acuracy 0.932\n",
      "Epoch 13   Train Acuracy 0.93\n",
      "Epoch 14   Train Acuracy 0.932\n",
      "Epoch 15   Train Acuracy 0.932\n",
      "Epoch 16   Train Acuracy 0.93\n",
      "Epoch 17   Train Acuracy 0.934\n",
      "Epoch 18   Train Acuracy 0.93\n",
      "Epoch 19   Train Acuracy 0.932\n",
      "Epoch 20   Train Acuracy 0.932\n"
     ]
    }
   ],
   "source": [
    "m = MLP(layer_dims=[512,512], input_dim=784, n_classes=10)\n",
    "loss_val = m.train(x_train, y_train_cat, num_epoch=20, batch_size=64, verbose = True)"
   ]
  },
  {
   "cell_type": "code",
   "execution_count": 7,
   "metadata": {},
   "outputs": [
    {
     "data": {
      "text/plain": [
       "Text(0.5,0,'steps')"
      ]
     },
     "execution_count": 7,
     "metadata": {},
     "output_type": "execute_result"
    },
    {
     "data": {
      "image/png": "[encoded data removed]",
      "text/plain": [
       "<Figure size 432x288 with 1 Axes>"
      ]
     },
     "metadata": {
      "needs_background": "light"
     },
     "output_type": "display_data"
    }
   ],
   "source": [
    "plt.plot(loss_val)\n",
    "plt.ylabel('Training Loss')\n",
    "plt.xlabel('steps')"
   ]
  },
  {
   "cell_type": "code",
   "execution_count": 8,
   "metadata": {},
   "outputs": [
    {
     "name": "stdout",
     "output_type": "stream",
     "text": [
      "Test Accuracy: 0.9314\n"
     ]
    }
   ],
   "source": [
    "y_test_pred = m.predict(x_test)\n",
    "acc = accuracy(y_test, y_test_pred)\n",
    "\n",
    "print('Test Accuracy: {}'.format(acc))"
   ]
  },
  {
   "cell_type": "code",
   "execution_count": null,
   "metadata": {},
   "outputs": [],
   "source": []
  },
  {
   "cell_type": "code",
   "execution_count": null,
   "metadata": {},
   "outputs": [],
   "source": []
  },
  {
   "cell_type": "code",
   "execution_count": null,
   "metadata": {},
   "outputs": [],
   "source": []
  },
  {
   "cell_type": "code",
   "execution_count": null,
   "metadata": {},
   "outputs": [],
   "source": []
  },
  {
   "cell_type": "code",
   "execution_count": null,
   "metadata": {},
   "outputs": [],
   "source": []
  }
 ],
 "metadata": {
  "kernelspec": {
   "display_name": "Python 3",
   "language": "python",
   "name": "python3"
  },
  "language_info": {
   "codemirror_mode": {
    "name": "ipython",
    "version": 3
   },
   "file_extension": ".py",
   "mimetype": "text/x-python",
   "name": "python",
   "nbconvert_exporter": "python",
   "pygments_lexer": "ipython3",
   "version": "3.5.6"
  }
 },
 "nbformat": 4,
 "nbformat_minor": 2
}
